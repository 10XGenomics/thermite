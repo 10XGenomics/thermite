{
 "cells": [
  {
   "cell_type": "code",
   "execution_count": 1,
   "metadata": {},
   "outputs": [],
   "source": [
    "import pandas as pd\n",
    "import numpy as np"
   ]
  },
  {
   "cell_type": "code",
   "execution_count": 10,
   "metadata": {},
   "outputs": [],
   "source": [
    "import scipy.sparse as sp_sparse\n",
    "import scipy.spatial.distance as distance\n",
    "import h5py\n"
   ]
  },
  {
   "cell_type": "code",
   "execution_count": 53,
   "metadata": {},
   "outputs": [],
   "source": [
    "from matplotlib import pyplot as plt"
   ]
  },
  {
   "cell_type": "code",
   "execution_count": 44,
   "metadata": {},
   "outputs": [],
   "source": [
    "cr_basedir = '/mnt/home/daniel.liu/cellranger/pbmc1k_star/outs/'"
   ]
  },
  {
   "cell_type": "code",
   "execution_count": 45,
   "metadata": {},
   "outputs": [],
   "source": [
    "thermite_basedir = '/mnt/home/daniel.liu/cellranger/pbmc1k_thermite/outs/'"
   ]
  },
  {
   "cell_type": "markdown",
   "metadata": {},
   "source": [
    "### Load h5 file"
   ]
  },
  {
   "cell_type": "code",
   "execution_count": 63,
   "metadata": {},
   "outputs": [],
   "source": [
    "def load_h5_file(basedir):\n",
    "    h5_file = basedir + \"/raw_feature_bc_matrix.h5\"\n",
    "    h5 = h5py.File(h5_file, 'r')\n",
    "    matrix= h5['matrix']\n",
    "    barcodes_np = matrix.get('barcodes')[()]\n",
    "    data_np = matrix.get('data')[()]\n",
    "    indices_np = matrix.get('indices')[()]\n",
    "    indptr_np = matrix.get('indptr')[()]\n",
    "    shape = matrix.get('shape')[()]\n",
    "    count_matrix = sp_sparse.csc_matrix((data_np, indices_np, indptr_np), shape=shape)\n",
    "    features_np = matrix.get('features').get('id')[()]\n",
    "    return count_matrix, features_np"
   ]
  },
  {
   "cell_type": "code",
   "execution_count": 64,
   "metadata": {},
   "outputs": [],
   "source": [
    "thermite_count_matrix, thermite_features = load_h5_file(thermite_basedir)"
   ]
  },
  {
   "cell_type": "code",
   "execution_count": 65,
   "metadata": {},
   "outputs": [],
   "source": [
    "cellranger_count_matrix, cr_features = load_h5_file(cr_basedir)"
   ]
  },
  {
   "cell_type": "markdown",
   "metadata": {},
   "source": [
    "## Mean difference of non-zero elements"
   ]
  },
  {
   "cell_type": "code",
   "execution_count": 50,
   "metadata": {},
   "outputs": [],
   "source": [
    "abs_diff = np.abs(thermite_count_matrix - cellranger_count_matrix)"
   ]
  },
  {
   "cell_type": "code",
   "execution_count": 69,
   "metadata": {},
   "outputs": [
    {
     "data": {
      "text/plain": [
       "2.1040123067308443"
      ]
     },
     "execution_count": 69,
     "metadata": {},
     "output_type": "execute_result"
    }
   ],
   "source": [
    "abs_diff[abs_diff.nonzero()].mean()"
   ]
  },
  {
   "cell_type": "markdown",
   "metadata": {},
   "source": [
    "## "
   ]
  },
  {
   "cell_type": "markdown",
   "metadata": {},
   "source": [
    "## Plotting"
   ]
  },
  {
   "cell_type": "code",
   "execution_count": 74,
   "metadata": {},
   "outputs": [
    {
     "data": {
      "text/plain": [
       "<36601x331666 sparse matrix of type '<class 'numpy.int32'>'\n",
       "\twith 166413 stored elements in Compressed Sparse Column format>"
      ]
     },
     "execution_count": 74,
     "metadata": {},
     "output_type": "execute_result"
    }
   ],
   "source": [
    "abs_diff"
   ]
  },
  {
   "cell_type": "code",
   "execution_count": null,
   "metadata": {},
   "outputs": [],
   "source": []
  }
 ],
 "metadata": {
  "kernelspec": {
   "display_name": "Python 3",
   "language": "python",
   "name": "python3"
  },
  "language_info": {
   "codemirror_mode": {
    "name": "ipython",
    "version": 3
   },
   "file_extension": ".py",
   "mimetype": "text/x-python",
   "name": "python",
   "nbconvert_exporter": "python",
   "pygments_lexer": "ipython3",
   "version": "3.8.3"
  }
 },
 "nbformat": 4,
 "nbformat_minor": 4
}
